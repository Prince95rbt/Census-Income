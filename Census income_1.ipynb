{
 "cells": [
  {
   "cell_type": "code",
   "execution_count": 1,
   "id": "46a27e0f",
   "metadata": {},
   "outputs": [],
   "source": [
    "import pandas as pd\n",
    "import numpy as np\n",
    "import matplotlib.pyplot as plt\n",
    "%matplotlib inline"
   ]
  },
  {
   "cell_type": "code",
   "execution_count": 2,
   "id": "94ad23b8",
   "metadata": {},
   "outputs": [],
   "source": [
    "df  = pd.read_csv(\"D:\\Python Preparatory\\Assignment\\Capstone Project\\Census-Income Project\\census-income.csv\")"
   ]
  },
  {
   "cell_type": "code",
   "execution_count": 3,
   "id": "262afe58",
   "metadata": {},
   "outputs": [
    {
     "data": {
      "text/plain": [
       "age                0\n",
       " workclass         0\n",
       " fnlwgt            0\n",
       " education         0\n",
       " education-num     0\n",
       " marital-status    0\n",
       " occupation        0\n",
       " relationship      0\n",
       " race              0\n",
       " sex               0\n",
       " capital-gain      0\n",
       " capital-loss      0\n",
       " hours-per-week    0\n",
       " native-country    0\n",
       "                   0\n",
       "dtype: int64"
      ]
     },
     "execution_count": 3,
     "metadata": {},
     "output_type": "execute_result"
    }
   ],
   "source": [
    "df.isnull().sum()"
   ]
  },
  {
   "cell_type": "markdown",
   "id": "182a30c8",
   "metadata": {},
   "source": [
    "# 2. Data Manipulation:  "
   ]
  },
  {
   "cell_type": "code",
   "execution_count": 4,
   "id": "80735da0",
   "metadata": {},
   "outputs": [],
   "source": [
    "census_ed = df[[' education']]"
   ]
  },
  {
   "cell_type": "code",
   "execution_count": 5,
   "id": "a26e0e19",
   "metadata": {},
   "outputs": [],
   "source": [
    "census_seq= df.iloc[0:,0:8]"
   ]
  },
  {
   "cell_type": "code",
   "execution_count": 6,
   "id": "b4c6e4f5",
   "metadata": {},
   "outputs": [],
   "source": [
    "census_col = df.iloc[0:,[5,8,11]]"
   ]
  },
  {
   "cell_type": "code",
   "execution_count": 7,
   "id": "bf0ecdbd",
   "metadata": {},
   "outputs": [
    {
     "data": {
      "text/plain": [
       "array([' Male', ' Female'], dtype=object)"
      ]
     },
     "execution_count": 7,
     "metadata": {},
     "output_type": "execute_result"
    }
   ],
   "source": [
    "df[' sex'].unique()"
   ]
  },
  {
   "cell_type": "code",
   "execution_count": 8,
   "id": "4699f630",
   "metadata": {},
   "outputs": [
    {
     "data": {
      "text/plain": [
       "array([' State-gov', ' Self-emp-not-inc', ' Private', ' Federal-gov',\n",
       "       ' Local-gov', ' ?', ' Self-emp-inc', ' Without-pay',\n",
       "       ' Never-worked'], dtype=object)"
      ]
     },
     "execution_count": 8,
     "metadata": {},
     "output_type": "execute_result"
    }
   ],
   "source": [
    "df[' workclass'].unique()"
   ]
  },
  {
   "cell_type": "code",
   "execution_count": 9,
   "id": "e0328e68",
   "metadata": {},
   "outputs": [],
   "source": [
    "male_gov = df.loc[(df[' workclass'] == ' State-gov') & \n",
    "              (df[' sex']==\" Male\")]"
   ]
  },
  {
   "cell_type": "code",
   "execution_count": 10,
   "id": "27278a3b",
   "metadata": {},
   "outputs": [
    {
     "data": {
      "text/html": [
       "<div>\n",
       "<style scoped>\n",
       "    .dataframe tbody tr th:only-of-type {\n",
       "        vertical-align: middle;\n",
       "    }\n",
       "\n",
       "    .dataframe tbody tr th {\n",
       "        vertical-align: top;\n",
       "    }\n",
       "\n",
       "    .dataframe thead th {\n",
       "        text-align: right;\n",
       "    }\n",
       "</style>\n",
       "<table border=\"1\" class=\"dataframe\">\n",
       "  <thead>\n",
       "    <tr style=\"text-align: right;\">\n",
       "      <th></th>\n",
       "      <th>age</th>\n",
       "      <th>workclass</th>\n",
       "      <th>fnlwgt</th>\n",
       "      <th>education</th>\n",
       "      <th>education-num</th>\n",
       "      <th>marital-status</th>\n",
       "      <th>occupation</th>\n",
       "      <th>relationship</th>\n",
       "      <th>race</th>\n",
       "      <th>sex</th>\n",
       "      <th>capital-gain</th>\n",
       "      <th>capital-loss</th>\n",
       "      <th>hours-per-week</th>\n",
       "      <th>native-country</th>\n",
       "      <th></th>\n",
       "    </tr>\n",
       "  </thead>\n",
       "  <tbody>\n",
       "    <tr>\n",
       "      <th>0</th>\n",
       "      <td>39</td>\n",
       "      <td>State-gov</td>\n",
       "      <td>77516</td>\n",
       "      <td>Bachelors</td>\n",
       "      <td>13</td>\n",
       "      <td>Never-married</td>\n",
       "      <td>Adm-clerical</td>\n",
       "      <td>Not-in-family</td>\n",
       "      <td>White</td>\n",
       "      <td>Male</td>\n",
       "      <td>2174</td>\n",
       "      <td>0</td>\n",
       "      <td>40</td>\n",
       "      <td>United-States</td>\n",
       "      <td>&lt;=50K</td>\n",
       "    </tr>\n",
       "    <tr>\n",
       "      <th>1</th>\n",
       "      <td>50</td>\n",
       "      <td>Self-emp-not-inc</td>\n",
       "      <td>83311</td>\n",
       "      <td>Bachelors</td>\n",
       "      <td>13</td>\n",
       "      <td>Married-civ-spouse</td>\n",
       "      <td>Exec-managerial</td>\n",
       "      <td>Husband</td>\n",
       "      <td>White</td>\n",
       "      <td>Male</td>\n",
       "      <td>0</td>\n",
       "      <td>0</td>\n",
       "      <td>13</td>\n",
       "      <td>United-States</td>\n",
       "      <td>&lt;=50K</td>\n",
       "    </tr>\n",
       "    <tr>\n",
       "      <th>2</th>\n",
       "      <td>38</td>\n",
       "      <td>Private</td>\n",
       "      <td>215646</td>\n",
       "      <td>HS-grad</td>\n",
       "      <td>9</td>\n",
       "      <td>Divorced</td>\n",
       "      <td>Handlers-cleaners</td>\n",
       "      <td>Not-in-family</td>\n",
       "      <td>White</td>\n",
       "      <td>Male</td>\n",
       "      <td>0</td>\n",
       "      <td>0</td>\n",
       "      <td>40</td>\n",
       "      <td>United-States</td>\n",
       "      <td>&lt;=50K</td>\n",
       "    </tr>\n",
       "    <tr>\n",
       "      <th>3</th>\n",
       "      <td>53</td>\n",
       "      <td>Private</td>\n",
       "      <td>234721</td>\n",
       "      <td>11th</td>\n",
       "      <td>7</td>\n",
       "      <td>Married-civ-spouse</td>\n",
       "      <td>Handlers-cleaners</td>\n",
       "      <td>Husband</td>\n",
       "      <td>Black</td>\n",
       "      <td>Male</td>\n",
       "      <td>0</td>\n",
       "      <td>0</td>\n",
       "      <td>40</td>\n",
       "      <td>United-States</td>\n",
       "      <td>&lt;=50K</td>\n",
       "    </tr>\n",
       "    <tr>\n",
       "      <th>4</th>\n",
       "      <td>28</td>\n",
       "      <td>Private</td>\n",
       "      <td>338409</td>\n",
       "      <td>Bachelors</td>\n",
       "      <td>13</td>\n",
       "      <td>Married-civ-spouse</td>\n",
       "      <td>Prof-specialty</td>\n",
       "      <td>Wife</td>\n",
       "      <td>Black</td>\n",
       "      <td>Female</td>\n",
       "      <td>0</td>\n",
       "      <td>0</td>\n",
       "      <td>40</td>\n",
       "      <td>Cuba</td>\n",
       "      <td>&lt;=50K</td>\n",
       "    </tr>\n",
       "    <tr>\n",
       "      <th>...</th>\n",
       "      <td>...</td>\n",
       "      <td>...</td>\n",
       "      <td>...</td>\n",
       "      <td>...</td>\n",
       "      <td>...</td>\n",
       "      <td>...</td>\n",
       "      <td>...</td>\n",
       "      <td>...</td>\n",
       "      <td>...</td>\n",
       "      <td>...</td>\n",
       "      <td>...</td>\n",
       "      <td>...</td>\n",
       "      <td>...</td>\n",
       "      <td>...</td>\n",
       "      <td>...</td>\n",
       "    </tr>\n",
       "    <tr>\n",
       "      <th>32556</th>\n",
       "      <td>27</td>\n",
       "      <td>Private</td>\n",
       "      <td>257302</td>\n",
       "      <td>Assoc-acdm</td>\n",
       "      <td>12</td>\n",
       "      <td>Married-civ-spouse</td>\n",
       "      <td>Tech-support</td>\n",
       "      <td>Wife</td>\n",
       "      <td>White</td>\n",
       "      <td>Female</td>\n",
       "      <td>0</td>\n",
       "      <td>0</td>\n",
       "      <td>38</td>\n",
       "      <td>United-States</td>\n",
       "      <td>&lt;=50K</td>\n",
       "    </tr>\n",
       "    <tr>\n",
       "      <th>32557</th>\n",
       "      <td>40</td>\n",
       "      <td>Private</td>\n",
       "      <td>154374</td>\n",
       "      <td>HS-grad</td>\n",
       "      <td>9</td>\n",
       "      <td>Married-civ-spouse</td>\n",
       "      <td>Machine-op-inspct</td>\n",
       "      <td>Husband</td>\n",
       "      <td>White</td>\n",
       "      <td>Male</td>\n",
       "      <td>0</td>\n",
       "      <td>0</td>\n",
       "      <td>40</td>\n",
       "      <td>United-States</td>\n",
       "      <td>&gt;50K</td>\n",
       "    </tr>\n",
       "    <tr>\n",
       "      <th>32558</th>\n",
       "      <td>58</td>\n",
       "      <td>Private</td>\n",
       "      <td>151910</td>\n",
       "      <td>HS-grad</td>\n",
       "      <td>9</td>\n",
       "      <td>Widowed</td>\n",
       "      <td>Adm-clerical</td>\n",
       "      <td>Unmarried</td>\n",
       "      <td>White</td>\n",
       "      <td>Female</td>\n",
       "      <td>0</td>\n",
       "      <td>0</td>\n",
       "      <td>40</td>\n",
       "      <td>United-States</td>\n",
       "      <td>&lt;=50K</td>\n",
       "    </tr>\n",
       "    <tr>\n",
       "      <th>32559</th>\n",
       "      <td>22</td>\n",
       "      <td>Private</td>\n",
       "      <td>201490</td>\n",
       "      <td>HS-grad</td>\n",
       "      <td>9</td>\n",
       "      <td>Never-married</td>\n",
       "      <td>Adm-clerical</td>\n",
       "      <td>Own-child</td>\n",
       "      <td>White</td>\n",
       "      <td>Male</td>\n",
       "      <td>0</td>\n",
       "      <td>0</td>\n",
       "      <td>20</td>\n",
       "      <td>United-States</td>\n",
       "      <td>&lt;=50K</td>\n",
       "    </tr>\n",
       "    <tr>\n",
       "      <th>32560</th>\n",
       "      <td>52</td>\n",
       "      <td>Self-emp-inc</td>\n",
       "      <td>287927</td>\n",
       "      <td>HS-grad</td>\n",
       "      <td>9</td>\n",
       "      <td>Married-civ-spouse</td>\n",
       "      <td>Exec-managerial</td>\n",
       "      <td>Wife</td>\n",
       "      <td>White</td>\n",
       "      <td>Female</td>\n",
       "      <td>15024</td>\n",
       "      <td>0</td>\n",
       "      <td>40</td>\n",
       "      <td>United-States</td>\n",
       "      <td>&gt;50K</td>\n",
       "    </tr>\n",
       "  </tbody>\n",
       "</table>\n",
       "<p>32561 rows × 15 columns</p>\n",
       "</div>"
      ],
      "text/plain": [
       "       age          workclass   fnlwgt    education   education-num  \\\n",
       "0       39          State-gov    77516    Bachelors              13   \n",
       "1       50   Self-emp-not-inc    83311    Bachelors              13   \n",
       "2       38            Private   215646      HS-grad               9   \n",
       "3       53            Private   234721         11th               7   \n",
       "4       28            Private   338409    Bachelors              13   \n",
       "...    ...                ...      ...          ...             ...   \n",
       "32556   27            Private   257302   Assoc-acdm              12   \n",
       "32557   40            Private   154374      HS-grad               9   \n",
       "32558   58            Private   151910      HS-grad               9   \n",
       "32559   22            Private   201490      HS-grad               9   \n",
       "32560   52       Self-emp-inc   287927      HS-grad               9   \n",
       "\n",
       "            marital-status          occupation    relationship    race  \\\n",
       "0            Never-married        Adm-clerical   Not-in-family   White   \n",
       "1       Married-civ-spouse     Exec-managerial         Husband   White   \n",
       "2                 Divorced   Handlers-cleaners   Not-in-family   White   \n",
       "3       Married-civ-spouse   Handlers-cleaners         Husband   Black   \n",
       "4       Married-civ-spouse      Prof-specialty            Wife   Black   \n",
       "...                    ...                 ...             ...     ...   \n",
       "32556   Married-civ-spouse        Tech-support            Wife   White   \n",
       "32557   Married-civ-spouse   Machine-op-inspct         Husband   White   \n",
       "32558              Widowed        Adm-clerical       Unmarried   White   \n",
       "32559        Never-married        Adm-clerical       Own-child   White   \n",
       "32560   Married-civ-spouse     Exec-managerial            Wife   White   \n",
       "\n",
       "           sex   capital-gain   capital-loss   hours-per-week  native-country  \\\n",
       "0         Male           2174              0               40   United-States   \n",
       "1         Male              0              0               13   United-States   \n",
       "2         Male              0              0               40   United-States   \n",
       "3         Male              0              0               40   United-States   \n",
       "4       Female              0              0               40            Cuba   \n",
       "...        ...            ...            ...              ...             ...   \n",
       "32556   Female              0              0               38   United-States   \n",
       "32557     Male              0              0               40   United-States   \n",
       "32558   Female              0              0               40   United-States   \n",
       "32559     Male              0              0               20   United-States   \n",
       "32560   Female          15024              0               40   United-States   \n",
       "\n",
       "               \n",
       "0       <=50K  \n",
       "1       <=50K  \n",
       "2       <=50K  \n",
       "3       <=50K  \n",
       "4       <=50K  \n",
       "...       ...  \n",
       "32556   <=50K  \n",
       "32557    >50K  \n",
       "32558   <=50K  \n",
       "32559   <=50K  \n",
       "32560    >50K  \n",
       "\n",
       "[32561 rows x 15 columns]"
      ]
     },
     "execution_count": 10,
     "metadata": {},
     "output_type": "execute_result"
    }
   ],
   "source": [
    "df"
   ]
  },
  {
   "cell_type": "code",
   "execution_count": 11,
   "id": "227cc4f6",
   "metadata": {},
   "outputs": [],
   "source": [
    "df1 = df[df['age'] == 39]\n",
    "census_us = df1.loc[(df1[' education']== ' Bachelors') | (df1[' native-country']== ' United-States')]"
   ]
  },
  {
   "cell_type": "code",
   "execution_count": 12,
   "id": "25004d6e",
   "metadata": {},
   "outputs": [],
   "source": [
    "census_200 = df.sample(200)"
   ]
  },
  {
   "cell_type": "code",
   "execution_count": 13,
   "id": "6b9361d0",
   "metadata": {},
   "outputs": [
    {
     "data": {
      "text/plain": [
       " Private             22696\n",
       " Self-emp-not-inc     2541\n",
       " Local-gov            2093\n",
       " ?                    1836\n",
       " State-gov            1298\n",
       " Self-emp-inc         1116\n",
       " Federal-gov           960\n",
       " Without-pay            14\n",
       " Never-worked            7\n",
       "Name:  workclass, dtype: int64"
      ]
     },
     "execution_count": 13,
     "metadata": {},
     "output_type": "execute_result"
    }
   ],
   "source": [
    "df[' workclass'].value_counts()"
   ]
  },
  {
   "cell_type": "code",
   "execution_count": 14,
   "id": "126e6300",
   "metadata": {},
   "outputs": [
    {
     "data": {
      "text/plain": [
       " workclass\n",
       " ?                    606.795752\n",
       " Federal-gov          833.232292\n",
       " Local-gov            880.202580\n",
       " Never-worked           0.000000\n",
       " Private              889.217792\n",
       " Self-emp-inc        4875.693548\n",
       " Self-emp-not-inc    1886.061787\n",
       " State-gov            701.699538\n",
       " Without-pay          487.857143\n",
       "Name:  capital-gain, dtype: float64"
      ]
     },
     "execution_count": 14,
     "metadata": {},
     "output_type": "execute_result"
    }
   ],
   "source": [
    "df.groupby(' workclass')[' capital-gain'].mean()"
   ]
  },
  {
   "cell_type": "code",
   "execution_count": 15,
   "id": "bea64d7e",
   "metadata": {},
   "outputs": [
    {
     "data": {
      "text/plain": [
       "0         <=50K\n",
       "1         <=50K\n",
       "2         <=50K\n",
       "3         <=50K\n",
       "4         <=50K\n",
       "          ...  \n",
       "32556     <=50K\n",
       "32557      >50K\n",
       "32558     <=50K\n",
       "32559     <=50K\n",
       "32560      >50K\n",
       "Name:  , Length: 32561, dtype: object"
      ]
     },
     "execution_count": 15,
     "metadata": {},
     "output_type": "execute_result"
    }
   ],
   "source": [
    "df[' ']"
   ]
  },
  {
   "cell_type": "code",
   "execution_count": 16,
   "id": "32c43809",
   "metadata": {},
   "outputs": [],
   "source": [
    "df.rename(columns = {' ':'income'}, inplace = True)"
   ]
  },
  {
   "cell_type": "code",
   "execution_count": 17,
   "id": "a94d9681",
   "metadata": {},
   "outputs": [
    {
     "data": {
      "text/plain": [
       "array([' <=50K', ' >50K'], dtype=object)"
      ]
     },
     "execution_count": 17,
     "metadata": {},
     "output_type": "execute_result"
    }
   ],
   "source": [
    "df['income'].unique()"
   ]
  },
  {
   "cell_type": "code",
   "execution_count": 18,
   "id": "d78e3618",
   "metadata": {},
   "outputs": [],
   "source": [
    "df2 = df[df['income'] == ' >50K']"
   ]
  },
  {
   "cell_type": "code",
   "execution_count": 19,
   "id": "7a6b4488",
   "metadata": {},
   "outputs": [
    {
     "name": "stdout",
     "output_type": "stream",
     "text": [
      "percentage of people from the United States who are private employees and earn less than 50,000 annually are 47.891649519363654\n"
     ]
    }
   ],
   "source": [
    "a = len(df[(df[' workclass'] == ' Private') & (df['income'] == ' <=50K' ) & (df[' native-country'] == ' United-States')])\n",
    "b = len(df)\n",
    "c = (a/b)*100\n",
    "print(f'percentage of people from the United States who are private employees and earn less than 50,000 annually are {c}')"
   ]
  },
  {
   "cell_type": "code",
   "execution_count": 20,
   "id": "70bc242e",
   "metadata": {},
   "outputs": [
    {
     "data": {
      "text/plain": [
       "array([' Never-married', ' Married-civ-spouse', ' Divorced',\n",
       "       ' Married-spouse-absent', ' Separated', ' Married-AF-spouse',\n",
       "       ' Widowed'], dtype=object)"
      ]
     },
     "execution_count": 20,
     "metadata": {},
     "output_type": "execute_result"
    }
   ],
   "source": [
    "df[' marital-status'].unique()"
   ]
  },
  {
   "cell_type": "code",
   "execution_count": 21,
   "id": "1b7cafe3",
   "metadata": {},
   "outputs": [
    {
     "name": "stdout",
     "output_type": "stream",
     "text": [
      "percentage of married people in the census data are 47.34805442093302\n"
     ]
    }
   ],
   "source": [
    "d = len(df.loc[(df[' marital-status'].isin([' Married-civ-spouse',\n",
    "                                    ' Married-spouse-absent',\n",
    "                                    ' Married-AF-spouse',]))])\n",
    "e = (d/b)*100\n",
    "print(f'percentage of married people in the census data are {e}')"
   ]
  },
  {
   "cell_type": "code",
   "execution_count": 22,
   "id": "b2687fe3",
   "metadata": {},
   "outputs": [
    {
     "name": "stdout",
     "output_type": "stream",
     "text": [
      "percentage of high school graduates earning more than 50,000 annually are 5.144190903227788\n"
     ]
    }
   ],
   "source": [
    "f = len(df[(df[' education'] == ' HS-grad') & (df['income'] == ' >50K' )])\n",
    "g = (f/b)*100\n",
    "print(f'percentage of high school graduates earning more than 50,000 annually are {g}')"
   ]
  },
  {
   "cell_type": "markdown",
   "id": "cc030ca7",
   "metadata": {},
   "source": [
    "# Linear Regression"
   ]
  },
  {
   "cell_type": "code",
   "execution_count": 23,
   "id": "fceb1d8a",
   "metadata": {},
   "outputs": [],
   "source": [
    "from sklearn.model_selection import train_test_split"
   ]
  },
  {
   "cell_type": "code",
   "execution_count": 24,
   "id": "c9c5812c",
   "metadata": {},
   "outputs": [
    {
     "data": {
      "text/plain": [
       "Index(['age', ' workclass', ' fnlwgt', ' education', ' education-num',\n",
       "       ' marital-status', ' occupation', ' relationship', ' race', ' sex',\n",
       "       ' capital-gain', ' capital-loss', ' hours-per-week', ' native-country',\n",
       "       'income'],\n",
       "      dtype='object')"
      ]
     },
     "execution_count": 24,
     "metadata": {},
     "output_type": "execute_result"
    }
   ],
   "source": [
    "df.columns"
   ]
  },
  {
   "cell_type": "code",
   "execution_count": 25,
   "id": "e3a85c60",
   "metadata": {},
   "outputs": [],
   "source": [
    "x = df[' education-num'].values.reshape(-1,1)\n",
    "y = df[' hours-per-week'].values.reshape(-1,1)"
   ]
  },
  {
   "cell_type": "code",
   "execution_count": 26,
   "id": "7574b8ee",
   "metadata": {},
   "outputs": [],
   "source": [
    "x_train , x_test , y_train , y_test = train_test_split(x, y, train_size = 0.7 , random_state = 7 )"
   ]
  },
  {
   "cell_type": "code",
   "execution_count": 27,
   "id": "78b95321",
   "metadata": {},
   "outputs": [
    {
     "data": {
      "text/plain": [
       "LinearRegression()"
      ]
     },
     "execution_count": 27,
     "metadata": {},
     "output_type": "execute_result"
    }
   ],
   "source": [
    "from sklearn.linear_model import LinearRegression\n",
    "reg = LinearRegression()\n",
    "reg.fit(x_train,y_train)"
   ]
  },
  {
   "cell_type": "code",
   "execution_count": 28,
   "id": "db274014",
   "metadata": {},
   "outputs": [],
   "source": [
    "y_pred = reg.predict(x_test)\n",
    "y_pred = pd.DataFrame(y_pred, columns = ['Predicted'])\n"
   ]
  },
  {
   "cell_type": "code",
   "execution_count": 29,
   "id": "453eb71b",
   "metadata": {},
   "outputs": [
    {
     "data": {
      "text/html": [
       "<div>\n",
       "<style scoped>\n",
       "    .dataframe tbody tr th:only-of-type {\n",
       "        vertical-align: middle;\n",
       "    }\n",
       "\n",
       "    .dataframe tbody tr th {\n",
       "        vertical-align: top;\n",
       "    }\n",
       "\n",
       "    .dataframe thead th {\n",
       "        text-align: right;\n",
       "    }\n",
       "</style>\n",
       "<table border=\"1\" class=\"dataframe\">\n",
       "  <thead>\n",
       "    <tr style=\"text-align: right;\">\n",
       "      <th></th>\n",
       "      <th>Predicted</th>\n",
       "    </tr>\n",
       "  </thead>\n",
       "  <tbody>\n",
       "    <tr>\n",
       "      <th>0</th>\n",
       "      <td>40.346331</td>\n",
       "    </tr>\n",
       "    <tr>\n",
       "      <th>1</th>\n",
       "      <td>42.477033</td>\n",
       "    </tr>\n",
       "    <tr>\n",
       "      <th>2</th>\n",
       "      <td>40.346331</td>\n",
       "    </tr>\n",
       "    <tr>\n",
       "      <th>3</th>\n",
       "      <td>38.925863</td>\n",
       "    </tr>\n",
       "    <tr>\n",
       "      <th>4</th>\n",
       "      <td>42.477033</td>\n",
       "    </tr>\n",
       "    <tr>\n",
       "      <th>...</th>\n",
       "      <td>...</td>\n",
       "    </tr>\n",
       "    <tr>\n",
       "      <th>9764</th>\n",
       "      <td>39.636097</td>\n",
       "    </tr>\n",
       "    <tr>\n",
       "      <th>9765</th>\n",
       "      <td>42.477033</td>\n",
       "    </tr>\n",
       "    <tr>\n",
       "      <th>9766</th>\n",
       "      <td>42.477033</td>\n",
       "    </tr>\n",
       "    <tr>\n",
       "      <th>9767</th>\n",
       "      <td>38.215629</td>\n",
       "    </tr>\n",
       "    <tr>\n",
       "      <th>9768</th>\n",
       "      <td>41.056565</td>\n",
       "    </tr>\n",
       "  </tbody>\n",
       "</table>\n",
       "<p>9769 rows × 1 columns</p>\n",
       "</div>"
      ],
      "text/plain": [
       "      Predicted\n",
       "0     40.346331\n",
       "1     42.477033\n",
       "2     40.346331\n",
       "3     38.925863\n",
       "4     42.477033\n",
       "...         ...\n",
       "9764  39.636097\n",
       "9765  42.477033\n",
       "9766  42.477033\n",
       "9767  38.215629\n",
       "9768  41.056565\n",
       "\n",
       "[9769 rows x 1 columns]"
      ]
     },
     "execution_count": 29,
     "metadata": {},
     "output_type": "execute_result"
    }
   ],
   "source": [
    "y_pred"
   ]
  },
  {
   "cell_type": "code",
   "execution_count": 30,
   "id": "1f689708",
   "metadata": {},
   "outputs": [],
   "source": [
    "from sklearn import metrics"
   ]
  },
  {
   "cell_type": "code",
   "execution_count": 31,
   "id": "291370ae",
   "metadata": {},
   "outputs": [
    {
     "data": {
      "text/plain": [
       "7.564304398936128"
      ]
     },
     "execution_count": 31,
     "metadata": {},
     "output_type": "execute_result"
    }
   ],
   "source": [
    "metrics.mean_absolute_error(y_test ,y_pred )"
   ]
  },
  {
   "cell_type": "code",
   "execution_count": 32,
   "id": "ff2e9391",
   "metadata": {},
   "outputs": [
    {
     "data": {
      "text/plain": [
       "144.94894811554494"
      ]
     },
     "execution_count": 32,
     "metadata": {},
     "output_type": "execute_result"
    }
   ],
   "source": [
    "metrics.mean_squared_error(y_test ,y_pred )"
   ]
  },
  {
   "cell_type": "code",
   "execution_count": 33,
   "id": "10c78f8d",
   "metadata": {},
   "outputs": [
    {
     "data": {
      "text/plain": [
       "2.750328052966796"
      ]
     },
     "execution_count": 33,
     "metadata": {},
     "output_type": "execute_result"
    }
   ],
   "source": [
    "np.sqrt(metrics.mean_absolute_error(y_test ,y_pred ))"
   ]
  },
  {
   "cell_type": "code",
   "execution_count": 34,
   "id": "31b0dc0c",
   "metadata": {},
   "outputs": [],
   "source": [
    "from sklearn.metrics import r2_score"
   ]
  },
  {
   "cell_type": "code",
   "execution_count": 35,
   "id": "8e7941eb",
   "metadata": {},
   "outputs": [
    {
     "data": {
      "text/plain": [
       "0.021733433749792308"
      ]
     },
     "execution_count": 35,
     "metadata": {},
     "output_type": "execute_result"
    }
   ],
   "source": [
    " r2_score(y_test, y_pred)"
   ]
  },
  {
   "cell_type": "markdown",
   "id": "9f2b8c2c",
   "metadata": {},
   "source": [
    "# Logistic Regression"
   ]
  },
  {
   "cell_type": "markdown",
   "id": "454a188c",
   "metadata": {},
   "source": [
    "a) Simple logistic regression "
   ]
  },
  {
   "cell_type": "code",
   "execution_count": 36,
   "id": "519b5db8",
   "metadata": {},
   "outputs": [
    {
     "name": "stdout",
     "output_type": "stream",
     "text": [
      "[' workclass', ' education', ' marital-status', ' occupation', ' relationship', ' race', ' sex', ' native-country', 'income']\n"
     ]
    }
   ],
   "source": [
    "categorical_features = list(df.select_dtypes(include=['object']).columns)\n",
    "print(categorical_features)"
   ]
  },
  {
   "cell_type": "code",
   "execution_count": 37,
   "id": "9de3f2a6",
   "metadata": {},
   "outputs": [],
   "source": [
    "from sklearn import preprocessing\n",
    "le = preprocessing.LabelEncoder()"
   ]
  },
  {
   "cell_type": "code",
   "execution_count": 38,
   "id": "8812c507",
   "metadata": {},
   "outputs": [],
   "source": [
    "for i in categorical_features:\n",
    "    df[i] = le.fit_transform(df[i])"
   ]
  },
  {
   "cell_type": "code",
   "execution_count": 39,
   "id": "77bfed69",
   "metadata": {},
   "outputs": [],
   "source": [
    "xl =  df[[' occupation']]\n",
    "yl = df['income']"
   ]
  },
  {
   "cell_type": "code",
   "execution_count": 40,
   "id": "aa9a650a",
   "metadata": {},
   "outputs": [],
   "source": [
    "from sklearn.model_selection import train_test_split\n",
    "xl_train , xl_test , yl_train , yl_test = train_test_split(xl, yl, train_size = 0.80 , random_state = 2 )"
   ]
  },
  {
   "cell_type": "code",
   "execution_count": 41,
   "id": "6ab1406e",
   "metadata": {},
   "outputs": [
    {
     "name": "stdout",
     "output_type": "stream",
     "text": [
      "(26048, 1) (26048,) (6513, 1) (6513,)\n"
     ]
    }
   ],
   "source": [
    " print(xl_train.shape,yl_train.shape, xl_test.shape, yl_test.shape)"
   ]
  },
  {
   "cell_type": "code",
   "execution_count": 42,
   "id": "2f723302",
   "metadata": {},
   "outputs": [
    {
     "data": {
      "text/plain": [
       "LogisticRegression()"
      ]
     },
     "execution_count": 42,
     "metadata": {},
     "output_type": "execute_result"
    }
   ],
   "source": [
    "from sklearn.linear_model import LogisticRegression\n",
    "logreg = LogisticRegression()\n",
    "logreg.fit(xl_train,yl_train)"
   ]
  },
  {
   "cell_type": "code",
   "execution_count": 43,
   "id": "6f388de5",
   "metadata": {},
   "outputs": [],
   "source": [
    "ypred = logreg.predict(xl_test)\n",
    "yl_pred = pd.DataFrame(ypred)"
   ]
  },
  {
   "cell_type": "code",
   "execution_count": 44,
   "id": "a2e4617d",
   "metadata": {},
   "outputs": [],
   "source": [
    "from sklearn.metrics import confusion_matrix , accuracy_score"
   ]
  },
  {
   "cell_type": "code",
   "execution_count": 45,
   "id": "88782dc7",
   "metadata": {},
   "outputs": [
    {
     "data": {
      "text/plain": [
       "array([[4928,    0],\n",
       "       [1585,    0]], dtype=int64)"
      ]
     },
     "execution_count": 45,
     "metadata": {},
     "output_type": "execute_result"
    }
   ],
   "source": [
    "confusion_matrix(yl_test,yl_pred)"
   ]
  },
  {
   "cell_type": "code",
   "execution_count": 46,
   "id": "dd5a0953",
   "metadata": {},
   "outputs": [
    {
     "data": {
      "text/plain": [
       "0.7566405650237985"
      ]
     },
     "execution_count": 46,
     "metadata": {},
     "output_type": "execute_result"
    }
   ],
   "source": [
    "accuracy_score(yl_test,yl_pred)"
   ]
  },
  {
   "cell_type": "code",
   "execution_count": 47,
   "id": "fee2a94f",
   "metadata": {},
   "outputs": [
    {
     "name": "stdout",
     "output_type": "stream",
     "text": [
      "              precision    recall  f1-score   support\n",
      "\n",
      "           0       0.76      1.00      0.86      4928\n",
      "           1       0.00      0.00      0.00      1585\n",
      "\n",
      "    accuracy                           0.76      6513\n",
      "   macro avg       0.38      0.50      0.43      6513\n",
      "weighted avg       0.57      0.76      0.65      6513\n",
      "\n"
     ]
    },
    {
     "name": "stderr",
     "output_type": "stream",
     "text": [
      "C:\\Users\\PRINCE\\anaconda3\\lib\\site-packages\\sklearn\\metrics\\_classification.py:1245: UndefinedMetricWarning: Precision and F-score are ill-defined and being set to 0.0 in labels with no predicted samples. Use `zero_division` parameter to control this behavior.\n",
      "  _warn_prf(average, modifier, msg_start, len(result))\n",
      "C:\\Users\\PRINCE\\anaconda3\\lib\\site-packages\\sklearn\\metrics\\_classification.py:1245: UndefinedMetricWarning: Precision and F-score are ill-defined and being set to 0.0 in labels with no predicted samples. Use `zero_division` parameter to control this behavior.\n",
      "  _warn_prf(average, modifier, msg_start, len(result))\n",
      "C:\\Users\\PRINCE\\anaconda3\\lib\\site-packages\\sklearn\\metrics\\_classification.py:1245: UndefinedMetricWarning: Precision and F-score are ill-defined and being set to 0.0 in labels with no predicted samples. Use `zero_division` parameter to control this behavior.\n",
      "  _warn_prf(average, modifier, msg_start, len(result))\n"
     ]
    }
   ],
   "source": [
    "from sklearn.metrics import classification_report\n",
    "print(classification_report(yl_test,yl_pred))"
   ]
  },
  {
   "cell_type": "markdown",
   "id": "c66f9fd0",
   "metadata": {},
   "source": [
    "b) Multiple logistic regression model "
   ]
  },
  {
   "cell_type": "code",
   "execution_count": 48,
   "id": "bd592582",
   "metadata": {},
   "outputs": [],
   "source": [
    "x2 = df[['age', ' workclass',' education']]"
   ]
  },
  {
   "cell_type": "code",
   "execution_count": 49,
   "id": "93f29d28",
   "metadata": {},
   "outputs": [],
   "source": [
    "y2 =  df['income']"
   ]
  },
  {
   "cell_type": "code",
   "execution_count": 50,
   "id": "adcc0c52",
   "metadata": {},
   "outputs": [],
   "source": [
    "from sklearn.model_selection import train_test_split\n",
    "x2_train , x2_test , y2_train , y2_test = train_test_split(x2, y2, train_size = 0.80 , random_state = 6 )"
   ]
  },
  {
   "cell_type": "code",
   "execution_count": 51,
   "id": "ea9cc47f",
   "metadata": {},
   "outputs": [
    {
     "data": {
      "text/plain": [
       "LogisticRegression()"
      ]
     },
     "execution_count": 51,
     "metadata": {},
     "output_type": "execute_result"
    }
   ],
   "source": [
    "logreg.fit(x2_train,y2_train)"
   ]
  },
  {
   "cell_type": "code",
   "execution_count": 52,
   "id": "cd074588",
   "metadata": {},
   "outputs": [],
   "source": [
    "y2_pred = logreg.predict(x2_test)\n",
    "y2_pred = pd.DataFrame(y2_pred)"
   ]
  },
  {
   "cell_type": "code",
   "execution_count": 53,
   "id": "052fc5ca",
   "metadata": {},
   "outputs": [
    {
     "data": {
      "text/plain": [
       "0    6347\n",
       "1     166\n",
       "dtype: int64"
      ]
     },
     "execution_count": 53,
     "metadata": {},
     "output_type": "execute_result"
    }
   ],
   "source": [
    "y2_pred.value_counts()"
   ]
  },
  {
   "cell_type": "code",
   "execution_count": 54,
   "id": "04ad4a9c",
   "metadata": {},
   "outputs": [
    {
     "data": {
      "text/plain": [
       "array([[4852,  123],\n",
       "       [1495,   43]], dtype=int64)"
      ]
     },
     "execution_count": 54,
     "metadata": {},
     "output_type": "execute_result"
    }
   ],
   "source": [
    "confusion_matrix(y2_test,y2_pred)"
   ]
  },
  {
   "cell_type": "code",
   "execution_count": 55,
   "id": "7e158813",
   "metadata": {},
   "outputs": [
    {
     "data": {
      "text/plain": [
       "0.7515737755258713"
      ]
     },
     "execution_count": 55,
     "metadata": {},
     "output_type": "execute_result"
    }
   ],
   "source": [
    "accuracy_score(y2_test,y2_pred)"
   ]
  },
  {
   "cell_type": "markdown",
   "id": "fb4a0cd2",
   "metadata": {},
   "source": [
    "# 5. Decision Tree"
   ]
  },
  {
   "cell_type": "code",
   "execution_count": 56,
   "id": "9e630502",
   "metadata": {},
   "outputs": [],
   "source": [
    "x3 = df[['age', ' workclass', ' fnlwgt', ' education', ' education-num',' marital-status', ' occupation', ' relationship', ' race', ' sex', ' capital-gain', ' capital-loss', ' hours-per-week', ' native-country']]"
   ]
  },
  {
   "cell_type": "code",
   "execution_count": 57,
   "id": "cd321e85",
   "metadata": {},
   "outputs": [],
   "source": [
    "y3 = df['income']"
   ]
  },
  {
   "cell_type": "code",
   "execution_count": 58,
   "id": "74a48da1",
   "metadata": {},
   "outputs": [],
   "source": [
    "from sklearn.model_selection import train_test_split\n",
    "x3_train , x3_test , y3_train , y3_test = train_test_split(x3, y3, train_size = 0.70 , random_state = 5 )"
   ]
  },
  {
   "cell_type": "code",
   "execution_count": 59,
   "id": "9b20a9ae",
   "metadata": {},
   "outputs": [
    {
     "data": {
      "text/plain": [
       "DecisionTreeRegressor()"
      ]
     },
     "execution_count": 59,
     "metadata": {},
     "output_type": "execute_result"
    }
   ],
   "source": [
    "from sklearn.tree import DecisionTreeRegressor\n",
    "dtreg = DecisionTreeRegressor()\n",
    "dtreg.fit(x3_train,y3_train)"
   ]
  },
  {
   "cell_type": "code",
   "execution_count": 60,
   "id": "cb6e6a7c",
   "metadata": {},
   "outputs": [],
   "source": [
    "ypred_dt = dtreg.predict(x3_test)\n",
    "y_predicted = pd.DataFrame(ypred_dt)"
   ]
  },
  {
   "cell_type": "code",
   "execution_count": 61,
   "id": "fdc3022d",
   "metadata": {},
   "outputs": [
    {
     "data": {
      "text/plain": [
       "0.0    7425\n",
       "1.0    2344\n",
       "dtype: int64"
      ]
     },
     "execution_count": 61,
     "metadata": {},
     "output_type": "execute_result"
    }
   ],
   "source": [
    "y_predicted.value_counts()"
   ]
  },
  {
   "cell_type": "code",
   "execution_count": 62,
   "id": "ea50b780",
   "metadata": {},
   "outputs": [],
   "source": [
    "from sklearn.metrics import confusion_matrix , accuracy_score"
   ]
  },
  {
   "cell_type": "code",
   "execution_count": 63,
   "id": "74a7e43c",
   "metadata": {},
   "outputs": [
    {
     "data": {
      "text/plain": [
       "array([[6509,  918],\n",
       "       [ 916, 1426]], dtype=int64)"
      ]
     },
     "execution_count": 63,
     "metadata": {},
     "output_type": "execute_result"
    }
   ],
   "source": [
    "confusion_matrix(y3_test,y_predicted)"
   ]
  },
  {
   "cell_type": "code",
   "execution_count": 64,
   "id": "1619ec38",
   "metadata": {},
   "outputs": [
    {
     "data": {
      "text/plain": [
       "0.8122632818098066"
      ]
     },
     "execution_count": 64,
     "metadata": {},
     "output_type": "execute_result"
    }
   ],
   "source": [
    "accuracy_score(y3_test,y_predicted)"
   ]
  },
  {
   "cell_type": "markdown",
   "id": "eb59f782",
   "metadata": {},
   "source": [
    "# Random Forest"
   ]
  },
  {
   "cell_type": "code",
   "execution_count": 65,
   "id": "3f316f73",
   "metadata": {},
   "outputs": [],
   "source": [
    "x4 = df[['age', ' workclass', ' fnlwgt', ' education', ' education-num',' marital-status', ' occupation', ' relationship', ' race', ' sex', ' capital-gain', ' capital-loss', ' hours-per-week', ' native-country']]\n",
    "y4 = df['income']"
   ]
  },
  {
   "cell_type": "code",
   "execution_count": 66,
   "id": "bd885cd1",
   "metadata": {},
   "outputs": [],
   "source": [
    "from sklearn.model_selection import train_test_split\n",
    "x4_train , x4_test , y4_train , y4_test = train_test_split(x4, y4, train_size = 0.80 , random_state = 6 )"
   ]
  },
  {
   "cell_type": "code",
   "execution_count": 67,
   "id": "af7df2f2",
   "metadata": {},
   "outputs": [
    {
     "data": {
      "text/plain": [
       "RandomForestClassifier(n_estimators=300)"
      ]
     },
     "execution_count": 67,
     "metadata": {},
     "output_type": "execute_result"
    }
   ],
   "source": [
    "from sklearn.ensemble import RandomForestClassifier\n",
    "clf = RandomForestClassifier(n_estimators = 300)\n",
    "clf.fit(x4_train,y4_train)"
   ]
  },
  {
   "cell_type": "code",
   "execution_count": 68,
   "id": "78d02135",
   "metadata": {},
   "outputs": [],
   "source": [
    "yrf = clf.predict(x4_test)\n",
    "y_pred_rf = pd.DataFrame(yrf)"
   ]
  },
  {
   "cell_type": "code",
   "execution_count": 69,
   "id": "bfbf5b23",
   "metadata": {},
   "outputs": [
    {
     "data": {
      "text/plain": [
       "0    5201\n",
       "1    1312\n",
       "dtype: int64"
      ]
     },
     "execution_count": 69,
     "metadata": {},
     "output_type": "execute_result"
    }
   ],
   "source": [
    "y_pred_rf.value_counts()"
   ]
  },
  {
   "cell_type": "code",
   "execution_count": 70,
   "id": "0c934308",
   "metadata": {},
   "outputs": [
    {
     "data": {
      "text/plain": [
       "array([[4636,  339],\n",
       "       [ 565,  973]], dtype=int64)"
      ]
     },
     "execution_count": 70,
     "metadata": {},
     "output_type": "execute_result"
    }
   ],
   "source": [
    "confusion_matrix(y4_test,y_pred_rf)"
   ]
  },
  {
   "cell_type": "code",
   "execution_count": 71,
   "id": "4e943096",
   "metadata": {},
   "outputs": [
    {
     "data": {
      "text/plain": [
       "0.861200675571933"
      ]
     },
     "execution_count": 71,
     "metadata": {},
     "output_type": "execute_result"
    }
   ],
   "source": [
    "accuracy_score(y4_test,y_pred_rf)"
   ]
  },
  {
   "cell_type": "markdown",
   "id": "2109ee2f",
   "metadata": {},
   "source": [
    "# 7. For this problem, use the population dataset, and perform the following:\n",
    "1.\tEDA on the time series to find trends and seasonality.\n",
    "2.\tForecast the population on the given dataset for the next 6 months. \n",
    "\n"
   ]
  },
  {
   "cell_type": "code",
   "execution_count": 72,
   "id": "34e3e7a2",
   "metadata": {},
   "outputs": [],
   "source": [
    "popdf = pd.read_csv(\"D:\\Python Preparatory\\Assignment\\Capstone Project\\Census-Income Project\\popdata.csv\", index_col = 'date', parse_dates = True)"
   ]
  },
  {
   "cell_type": "code",
   "execution_count": 73,
   "id": "e97933bc",
   "metadata": {},
   "outputs": [
    {
     "data": {
      "image/png": "[encoded data removed]",
      "text/plain": [
       "<Figure size 432x288 with 4 Axes>"
      ]
     },
     "execution_count": 73,
     "metadata": {},
     "output_type": "execute_result"
    },
    {
     "data": {
      "image/png": "[encoded data removed]",
      "text/plain": [
       "<Figure size 432x288 with 4 Axes>"
      ]
     },
     "metadata": {
      "needs_background": "light"
     },
     "output_type": "display_data"
    }
   ],
   "source": [
    "from statsmodels.tsa.seasonal import seasonal_decompose\n",
    "\n",
    "result = seasonal_decompose(popdf['value'],model ='additive')\n",
    "\n",
    "result.plot()"
   ]
  },
  {
   "cell_type": "code",
   "execution_count": 74,
   "id": "6d57c10b",
   "metadata": {},
   "outputs": [
    {
     "name": "stdout",
     "output_type": "stream",
     "text": [
      "Performing stepwise search to minimize aic\n",
      " ARIMA(1,1,1)(0,1,1)[12]             : AIC=6634.283, Time=2.17 sec\n",
      " ARIMA(0,1,0)(0,1,0)[12]             : AIC=7298.385, Time=0.08 sec\n",
      " ARIMA(1,1,0)(1,1,0)[12]             : AIC=6936.414, Time=0.57 sec\n",
      " ARIMA(0,1,1)(0,1,1)[12]             : AIC=7090.034, Time=0.71 sec\n",
      " ARIMA(1,1,1)(0,1,0)[12]             : AIC=6948.478, Time=0.32 sec\n",
      " ARIMA(1,1,1)(1,1,1)[12]             : AIC=6634.632, Time=3.71 sec\n",
      " ARIMA(1,1,1)(0,1,2)[12]             : AIC=6634.676, Time=4.81 sec\n",
      " ARIMA(1,1,1)(1,1,0)[12]             : AIC=6788.602, Time=0.90 sec\n",
      " ARIMA(1,1,1)(1,1,2)[12]             : AIC=6636.590, Time=10.01 sec\n",
      " ARIMA(1,1,0)(0,1,1)[12]             : AIC=6853.184, Time=0.86 sec\n",
      " ARIMA(2,1,1)(0,1,1)[12]             : AIC=6636.276, Time=2.93 sec\n",
      " ARIMA(1,1,2)(0,1,1)[12]             : AIC=6636.277, Time=3.13 sec\n",
      " ARIMA(0,1,0)(0,1,1)[12]             : AIC=7283.432, Time=0.52 sec\n",
      " ARIMA(0,1,2)(0,1,1)[12]             : AIC=6978.741, Time=0.88 sec\n",
      " ARIMA(2,1,0)(0,1,1)[12]             : AIC=6705.944, Time=2.12 sec\n",
      " ARIMA(2,1,2)(0,1,1)[12]             : AIC=6637.388, Time=5.42 sec\n",
      " ARIMA(1,1,1)(0,1,1)[12] intercept   : AIC=6636.122, Time=3.89 sec\n",
      "\n",
      "Best model:  ARIMA(1,1,1)(0,1,1)[12]          \n",
      "Total fit time: 43.058 seconds\n"
     ]
    }
   ],
   "source": [
    "from pmdarima import auto_arima\n",
    "\n",
    "import warnings\n",
    "warnings.filterwarnings(\"ignore\")\n",
    "\n",
    "stepwise_fit = auto_arima(popdf['value'], start_p = 1, start_q = 1,\n",
    "                          max_p = 3, max_q = 3, m = 12,\n",
    "                          start_P = 0, seasonal = True,\n",
    "                          d = None, D = 1, trace = True,\n",
    "                          error_action ='ignore',   \n",
    "                          suppress_warnings = True, \n",
    "                          stepwise = True)    \n"
   ]
  },
  {
   "cell_type": "code",
   "execution_count": 75,
   "id": "b64db6e2",
   "metadata": {},
   "outputs": [
    {
     "data": {
      "text/html": [
       "<table class=\"simpletable\">\n",
       "<caption>SARIMAX Results</caption>\n",
       "<tr>\n",
       "  <th>Dep. Variable:</th>                  <td>y</td>               <th>  No. Observations:  </th>    <td>816</td>   \n",
       "</tr>\n",
       "<tr>\n",
       "  <th>Model:</th>           <td>SARIMAX(1, 1, 1)x(0, 1, 1, 12)</td> <th>  Log Likelihood     </th> <td>-3313.142</td>\n",
       "</tr>\n",
       "<tr>\n",
       "  <th>Date:</th>                   <td>Wed, 25 May 2022</td>        <th>  AIC                </th> <td>6634.283</td> \n",
       "</tr>\n",
       "<tr>\n",
       "  <th>Time:</th>                       <td>15:00:40</td>            <th>  BIC                </th> <td>6653.037</td> \n",
       "</tr>\n",
       "<tr>\n",
       "  <th>Sample:</th>                         <td>0</td>               <th>  HQIC               </th> <td>6641.486</td> \n",
       "</tr>\n",
       "<tr>\n",
       "  <th></th>                             <td> - 816</td>             <th>                     </th>     <td> </td>    \n",
       "</tr>\n",
       "<tr>\n",
       "  <th>Covariance Type:</th>               <td>opg</td>              <th>                     </th>     <td> </td>    \n",
       "</tr>\n",
       "</table>\n",
       "<table class=\"simpletable\">\n",
       "<tr>\n",
       "      <td></td>        <th>coef</th>     <th>std err</th>      <th>z</th>      <th>P>|z|</th>  <th>[0.025</th>    <th>0.975]</th>  \n",
       "</tr>\n",
       "<tr>\n",
       "  <th>ar.L1</th>    <td>    0.9811</td> <td>    0.010</td> <td>  101.972</td> <td> 0.000</td> <td>    0.962</td> <td>    1.000</td>\n",
       "</tr>\n",
       "<tr>\n",
       "  <th>ma.L1</th>    <td>   -0.6360</td> <td>    0.017</td> <td>  -36.533</td> <td> 0.000</td> <td>   -0.670</td> <td>   -0.602</td>\n",
       "</tr>\n",
       "<tr>\n",
       "  <th>ma.S.L12</th> <td>   -0.8275</td> <td>    0.016</td> <td>  -51.509</td> <td> 0.000</td> <td>   -0.859</td> <td>   -0.796</td>\n",
       "</tr>\n",
       "<tr>\n",
       "  <th>sigma2</th>   <td>  218.7643</td> <td>    2.259</td> <td>   96.825</td> <td> 0.000</td> <td>  214.336</td> <td>  223.193</td>\n",
       "</tr>\n",
       "</table>\n",
       "<table class=\"simpletable\">\n",
       "<tr>\n",
       "  <th>Ljung-Box (L1) (Q):</th>     <td>0.15</td> <th>  Jarque-Bera (JB):  </th> <td>174157.69</td>\n",
       "</tr>\n",
       "<tr>\n",
       "  <th>Prob(Q):</th>                <td>0.70</td> <th>  Prob(JB):          </th>   <td>0.00</td>   \n",
       "</tr>\n",
       "<tr>\n",
       "  <th>Heteroskedasticity (H):</th> <td>1.46</td> <th>  Skew:              </th>   <td>-3.88</td>  \n",
       "</tr>\n",
       "<tr>\n",
       "  <th>Prob(H) (two-sided):</th>    <td>0.00</td> <th>  Kurtosis:          </th>   <td>74.73</td>  \n",
       "</tr>\n",
       "</table><br/><br/>Warnings:<br/>[1] Covariance matrix calculated using the outer product of gradients (complex-step)."
      ],
      "text/plain": [
       "<class 'statsmodels.iolib.summary.Summary'>\n",
       "\"\"\"\n",
       "                                     SARIMAX Results                                      \n",
       "==========================================================================================\n",
       "Dep. Variable:                                  y   No. Observations:                  816\n",
       "Model:             SARIMAX(1, 1, 1)x(0, 1, 1, 12)   Log Likelihood               -3313.142\n",
       "Date:                            Wed, 25 May 2022   AIC                           6634.283\n",
       "Time:                                    15:00:40   BIC                           6653.037\n",
       "Sample:                                         0   HQIC                          6641.486\n",
       "                                            - 816                                         \n",
       "Covariance Type:                              opg                                         \n",
       "==============================================================================\n",
       "                 coef    std err          z      P>|z|      [0.025      0.975]\n",
       "------------------------------------------------------------------------------\n",
       "ar.L1          0.9811      0.010    101.972      0.000       0.962       1.000\n",
       "ma.L1         -0.6360      0.017    -36.533      0.000      -0.670      -0.602\n",
       "ma.S.L12      -0.8275      0.016    -51.509      0.000      -0.859      -0.796\n",
       "sigma2       218.7643      2.259     96.825      0.000     214.336     223.193\n",
       "===================================================================================\n",
       "Ljung-Box (L1) (Q):                   0.15   Jarque-Bera (JB):            174157.69\n",
       "Prob(Q):                              0.70   Prob(JB):                         0.00\n",
       "Heteroskedasticity (H):               1.46   Skew:                            -3.88\n",
       "Prob(H) (two-sided):                  0.00   Kurtosis:                        74.73\n",
       "===================================================================================\n",
       "\n",
       "Warnings:\n",
       "[1] Covariance matrix calculated using the outer product of gradients (complex-step).\n",
       "\"\"\""
      ]
     },
     "execution_count": 75,
     "metadata": {},
     "output_type": "execute_result"
    }
   ],
   "source": [
    "stepwise_fit.summary()"
   ]
  },
  {
   "cell_type": "code",
   "execution_count": 76,
   "id": "4c2817b6",
   "metadata": {},
   "outputs": [],
   "source": [
    "train = popdf.iloc[:len(popdf)-12]\n",
    "test = popdf.iloc[len(popdf)-12:]"
   ]
  },
  {
   "cell_type": "code",
   "execution_count": 77,
   "id": "379120be",
   "metadata": {},
   "outputs": [
    {
     "data": {
      "text/html": [
       "<table class=\"simpletable\">\n",
       "<caption>SARIMAX Results</caption>\n",
       "<tr>\n",
       "  <th>Dep. Variable:</th>                <td>value</td>             <th>  No. Observations:  </th>    <td>804</td>   \n",
       "</tr>\n",
       "<tr>\n",
       "  <th>Model:</th>           <td>SARIMAX(1, 1, 1)x(0, 1, 1, 12)</td> <th>  Log Likelihood     </th> <td>-3269.181</td>\n",
       "</tr>\n",
       "<tr>\n",
       "  <th>Date:</th>                   <td>Wed, 25 May 2022</td>        <th>  AIC                </th> <td>6546.361</td> \n",
       "</tr>\n",
       "<tr>\n",
       "  <th>Time:</th>                       <td>15:00:43</td>            <th>  BIC                </th> <td>6565.054</td> \n",
       "</tr>\n",
       "<tr>\n",
       "  <th>Sample:</th>                    <td>01-01-1952</td>           <th>  HQIC               </th> <td>6553.546</td> \n",
       "</tr>\n",
       "<tr>\n",
       "  <th></th>                          <td>- 12-01-2018</td>          <th>                     </th>     <td> </td>    \n",
       "</tr>\n",
       "<tr>\n",
       "  <th>Covariance Type:</th>               <td>opg</td>              <th>                     </th>     <td> </td>    \n",
       "</tr>\n",
       "</table>\n",
       "<table class=\"simpletable\">\n",
       "<tr>\n",
       "      <td></td>        <th>coef</th>     <th>std err</th>      <th>z</th>      <th>P>|z|</th>  <th>[0.025</th>    <th>0.975]</th>  \n",
       "</tr>\n",
       "<tr>\n",
       "  <th>ar.L1</th>    <td>    0.9812</td> <td>    0.010</td> <td>  100.710</td> <td> 0.000</td> <td>    0.962</td> <td>    1.000</td>\n",
       "</tr>\n",
       "<tr>\n",
       "  <th>ma.L1</th>    <td>   -0.6360</td> <td>    0.018</td> <td>  -36.077</td> <td> 0.000</td> <td>   -0.671</td> <td>   -0.601</td>\n",
       "</tr>\n",
       "<tr>\n",
       "  <th>ma.S.L12</th> <td>   -0.8283</td> <td>    0.016</td> <td>  -50.798</td> <td> 0.000</td> <td>   -0.860</td> <td>   -0.796</td>\n",
       "</tr>\n",
       "<tr>\n",
       "  <th>sigma2</th>   <td>  221.7173</td> <td>    2.327</td> <td>   95.280</td> <td> 0.000</td> <td>  217.156</td> <td>  226.278</td>\n",
       "</tr>\n",
       "</table>\n",
       "<table class=\"simpletable\">\n",
       "<tr>\n",
       "  <th>Ljung-Box (L1) (Q):</th>     <td>0.16</td> <th>  Jarque-Bera (JB):  </th> <td>167436.57</td>\n",
       "</tr>\n",
       "<tr>\n",
       "  <th>Prob(Q):</th>                <td>0.69</td> <th>  Prob(JB):          </th>   <td>0.00</td>   \n",
       "</tr>\n",
       "<tr>\n",
       "  <th>Heteroskedasticity (H):</th> <td>1.48</td> <th>  Skew:              </th>   <td>-3.86</td>  \n",
       "</tr>\n",
       "<tr>\n",
       "  <th>Prob(H) (two-sided):</th>    <td>0.00</td> <th>  Kurtosis:          </th>   <td>73.86</td>  \n",
       "</tr>\n",
       "</table><br/><br/>Warnings:<br/>[1] Covariance matrix calculated using the outer product of gradients (complex-step)."
      ],
      "text/plain": [
       "<class 'statsmodels.iolib.summary.Summary'>\n",
       "\"\"\"\n",
       "                                     SARIMAX Results                                      \n",
       "==========================================================================================\n",
       "Dep. Variable:                              value   No. Observations:                  804\n",
       "Model:             SARIMAX(1, 1, 1)x(0, 1, 1, 12)   Log Likelihood               -3269.181\n",
       "Date:                            Wed, 25 May 2022   AIC                           6546.361\n",
       "Time:                                    15:00:43   BIC                           6565.054\n",
       "Sample:                                01-01-1952   HQIC                          6553.546\n",
       "                                     - 12-01-2018                                         \n",
       "Covariance Type:                              opg                                         \n",
       "==============================================================================\n",
       "                 coef    std err          z      P>|z|      [0.025      0.975]\n",
       "------------------------------------------------------------------------------\n",
       "ar.L1          0.9812      0.010    100.710      0.000       0.962       1.000\n",
       "ma.L1         -0.6360      0.018    -36.077      0.000      -0.671      -0.601\n",
       "ma.S.L12      -0.8283      0.016    -50.798      0.000      -0.860      -0.796\n",
       "sigma2       221.7173      2.327     95.280      0.000     217.156     226.278\n",
       "===================================================================================\n",
       "Ljung-Box (L1) (Q):                   0.16   Jarque-Bera (JB):            167436.57\n",
       "Prob(Q):                              0.69   Prob(JB):                         0.00\n",
       "Heteroskedasticity (H):               1.48   Skew:                            -3.86\n",
       "Prob(H) (two-sided):                  0.00   Kurtosis:                        73.86\n",
       "===================================================================================\n",
       "\n",
       "Warnings:\n",
       "[1] Covariance matrix calculated using the outer product of gradients (complex-step).\n",
       "\"\"\""
      ]
     },
     "execution_count": 77,
     "metadata": {},
     "output_type": "execute_result"
    }
   ],
   "source": [
    "from statsmodels.tsa.statespace.sarimax import SARIMAX\n",
    "  \n",
    "model = SARIMAX(train['value'], \n",
    "                order = (1, 1, 1), \n",
    "                seasonal_order =(0, 1, 1, 12))\n",
    "\n",
    "result = model.fit()\n",
    "result.summary()"
   ]
  },
  {
   "cell_type": "code",
   "execution_count": 78,
   "id": "1bfa6d42",
   "metadata": {},
   "outputs": [],
   "source": [
    "start = len(train)\n",
    "end = len(train) + len(test) - 1"
   ]
  },
  {
   "cell_type": "code",
   "execution_count": 79,
   "id": "00745c35",
   "metadata": {},
   "outputs": [],
   "source": [
    "predictions = result.predict(start, end,\n",
    "                             typ = 'levels').rename(\"Predictions\")"
   ]
  },
  {
   "cell_type": "code",
   "execution_count": 80,
   "id": "bc864410",
   "metadata": {},
   "outputs": [
    {
     "data": {
      "text/plain": [
       "<AxesSubplot:xlabel='date'>"
      ]
     },
     "execution_count": 80,
     "metadata": {},
     "output_type": "execute_result"
    },
    {
     "data": {
      "image/png": "[encoded data removed]",
      "text/plain": [
       "<Figure size 432x288 with 1 Axes>"
      ]
     },
     "metadata": {
      "needs_background": "light"
     },
     "output_type": "display_data"
    }
   ],
   "source": [
    "predictions.plot(legend = True)\n",
    "test['value'].plot(legend = True)"
   ]
  },
  {
   "cell_type": "code",
   "execution_count": 81,
   "id": "8cd019ea",
   "metadata": {},
   "outputs": [
    {
     "data": {
      "text/plain": [
       "21.18775496375448"
      ]
     },
     "execution_count": 81,
     "metadata": {},
     "output_type": "execute_result"
    }
   ],
   "source": [
    "from sklearn.metrics import mean_squared_error\n",
    "from statsmodels.tools.eval_measures import rmse\n",
    "\n",
    "rmse(test[\"value\"], predictions)"
   ]
  },
  {
   "cell_type": "code",
   "execution_count": 82,
   "id": "b2da0567",
   "metadata": {},
   "outputs": [
    {
     "data": {
      "text/plain": [
       "448.9209604041025"
      ]
     },
     "execution_count": 82,
     "metadata": {},
     "output_type": "execute_result"
    }
   ],
   "source": [
    "mean_squared_error(test[\"value\"], predictions)"
   ]
  },
  {
   "cell_type": "code",
   "execution_count": 84,
   "id": "d4e40e0a",
   "metadata": {},
   "outputs": [
    {
     "data": {
      "text/plain": [
       "<AxesSubplot:xlabel='date'>"
      ]
     },
     "execution_count": 84,
     "metadata": {},
     "output_type": "execute_result"
    },
    {
     "data": {
      "image/png": "[encoded data removed]",
      "text/plain": [
       "<Figure size 864x360 with 1 Axes>"
      ]
     },
     "metadata": {
      "needs_background": "light"
     },
     "output_type": "display_data"
    }
   ],
   "source": [
    "# Train the model on the full dataset\n",
    "model = model = SARIMAX(popdf['value'], \n",
    "                        order = (1, 1, 1), \n",
    "                        seasonal_order =(0, 1, 1, 12))\n",
    "result = model.fit()\n",
    "  \n",
    "# Forecast for the next 6 months\n",
    "forecast = result.predict(start = len(popdf), \n",
    "                          end = (len(popdf)-1) + 6, \n",
    "                          typ = 'levels').rename('Forecast')\n",
    "  \n",
    "\n",
    "popdf['value'].plot(figsize = (12, 5), legend = True)\n",
    "forecast.plot(legend = True)"
   ]
  },
  {
   "cell_type": "code",
   "execution_count": null,
   "id": "e3b1f770",
   "metadata": {},
   "outputs": [],
   "source": []
  },
  {
   "cell_type": "code",
   "execution_count": null,
   "id": "94e383c1",
   "metadata": {},
   "outputs": [],
   "source": []
  },
  {
   "cell_type": "code",
   "execution_count": null,
   "id": "56b215ea",
   "metadata": {},
   "outputs": [],
   "source": []
  }
 ],
 "metadata": {
  "kernelspec": {
   "display_name": "Python 3",
   "language": "python",
   "name": "python3"
  },
  "language_info": {
   "codemirror_mode": {
    "name": "ipython",
    "version": 3
   },
   "file_extension": ".py",
   "mimetype": "text/x-python",
   "name": "python",
   "nbconvert_exporter": "python",
   "pygments_lexer": "ipython3",
   "version": "3.8.8"
  }
 },
 "nbformat": 4,
 "nbformat_minor": 5
}
